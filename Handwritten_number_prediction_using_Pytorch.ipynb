{
 "cells": [
  {
   "cell_type": "code",
   "execution_count": 1,
   "id": "a2359a22",
   "metadata": {},
   "outputs": [],
   "source": [
    "from torchvision import datasets\n",
    "from torchvision.transforms import ToTensor"
   ]
  },
  {
   "cell_type": "code",
   "execution_count": 4,
   "id": "2a86d408",
   "metadata": {},
   "outputs": [
    {
     "name": "stdout",
     "output_type": "stream",
     "text": [
      "Downloading http://yann.lecun.com/exdb/mnist/train-images-idx3-ubyte.gz\n",
      "Downloading http://yann.lecun.com/exdb/mnist/train-images-idx3-ubyte.gz to data/MNIST/raw/train-images-idx3-ubyte.gz\n"
     ]
    },
    {
     "name": "stderr",
     "output_type": "stream",
     "text": [
      "100%|███████████████████████████████████| 9912422/9912422 [00:00<00:00, 31405508.42it/s]\n"
     ]
    },
    {
     "name": "stdout",
     "output_type": "stream",
     "text": [
      "Extracting data/MNIST/raw/train-images-idx3-ubyte.gz to data/MNIST/raw\n",
      "\n",
      "Downloading http://yann.lecun.com/exdb/mnist/train-labels-idx1-ubyte.gz\n",
      "Downloading http://yann.lecun.com/exdb/mnist/train-labels-idx1-ubyte.gz to data/MNIST/raw/train-labels-idx1-ubyte.gz\n"
     ]
    },
    {
     "name": "stderr",
     "output_type": "stream",
     "text": [
      "100%|███████████████████████████████████████| 28881/28881 [00:00<00:00, 16578033.92it/s]\n"
     ]
    },
    {
     "name": "stdout",
     "output_type": "stream",
     "text": [
      "Extracting data/MNIST/raw/train-labels-idx1-ubyte.gz to data/MNIST/raw\n",
      "\n",
      "Downloading http://yann.lecun.com/exdb/mnist/t10k-images-idx3-ubyte.gz\n",
      "Downloading http://yann.lecun.com/exdb/mnist/t10k-images-idx3-ubyte.gz to data/MNIST/raw/t10k-images-idx3-ubyte.gz\n"
     ]
    },
    {
     "name": "stderr",
     "output_type": "stream",
     "text": [
      "100%|███████████████████████████████████| 1648877/1648877 [00:00<00:00, 11760380.02it/s]\n"
     ]
    },
    {
     "name": "stdout",
     "output_type": "stream",
     "text": [
      "Extracting data/MNIST/raw/t10k-images-idx3-ubyte.gz to data/MNIST/raw\n",
      "\n",
      "Downloading http://yann.lecun.com/exdb/mnist/t10k-labels-idx1-ubyte.gz\n",
      "Downloading http://yann.lecun.com/exdb/mnist/t10k-labels-idx1-ubyte.gz to data/MNIST/raw/t10k-labels-idx1-ubyte.gz\n"
     ]
    },
    {
     "name": "stderr",
     "output_type": "stream",
     "text": [
      "100%|██████████████████████████████████████████| 4542/4542 [00:00<00:00, 3284573.93it/s]"
     ]
    },
    {
     "name": "stdout",
     "output_type": "stream",
     "text": [
      "Extracting data/MNIST/raw/t10k-labels-idx1-ubyte.gz to data/MNIST/raw\n",
      "\n"
     ]
    },
    {
     "name": "stderr",
     "output_type": "stream",
     "text": [
      "\n"
     ]
    }
   ],
   "source": [
    "train_data = datasets.MNIST(\n",
    "    root ='data',\n",
    "    train = True,\n",
    "    transform = ToTensor(),\n",
    "    download = True\n",
    ")\n",
    "\n",
    "test_data = datasets.MNIST(\n",
    "    root ='data',\n",
    "    train = False,\n",
    "    transform = ToTensor(),\n",
    "    download = True\n",
    ")"
   ]
  },
  {
   "cell_type": "code",
   "execution_count": 5,
   "id": "437567be",
   "metadata": {},
   "outputs": [
    {
     "data": {
      "text/plain": [
       "Dataset MNIST\n",
       "    Number of datapoints: 60000\n",
       "    Root location: data\n",
       "    Split: Train\n",
       "    StandardTransform\n",
       "Transform: ToTensor()"
      ]
     },
     "execution_count": 5,
     "metadata": {},
     "output_type": "execute_result"
    }
   ],
   "source": [
    "train_data"
   ]
  },
  {
   "cell_type": "code",
   "execution_count": 6,
   "id": "9f11b9ba",
   "metadata": {},
   "outputs": [
    {
     "data": {
      "text/plain": [
       "Dataset MNIST\n",
       "    Number of datapoints: 10000\n",
       "    Root location: data\n",
       "    Split: Test\n",
       "    StandardTransform\n",
       "Transform: ToTensor()"
      ]
     },
     "execution_count": 6,
     "metadata": {},
     "output_type": "execute_result"
    }
   ],
   "source": [
    "test_data"
   ]
  },
  {
   "cell_type": "code",
   "execution_count": 8,
   "id": "48433f85",
   "metadata": {},
   "outputs": [
    {
     "data": {
      "text/plain": [
       "torch.Size([60000, 28, 28])"
      ]
     },
     "execution_count": 8,
     "metadata": {},
     "output_type": "execute_result"
    }
   ],
   "source": [
    "train_data.data.shape"
   ]
  },
  {
   "cell_type": "code",
   "execution_count": 10,
   "id": "27c0ec15",
   "metadata": {},
   "outputs": [
    {
     "data": {
      "text/plain": [
       "torch.Size([10000, 28, 28])"
      ]
     },
     "execution_count": 10,
     "metadata": {},
     "output_type": "execute_result"
    }
   ],
   "source": [
    "test_data.data.size()"
   ]
  },
  {
   "cell_type": "code",
   "execution_count": 12,
   "id": "6e55ddfc",
   "metadata": {},
   "outputs": [
    {
     "data": {
      "text/plain": [
       "torch.Size([60000])"
      ]
     },
     "execution_count": 12,
     "metadata": {},
     "output_type": "execute_result"
    }
   ],
   "source": [
    "train_data.targets.size()"
   ]
  },
  {
   "cell_type": "code",
   "execution_count": 13,
   "id": "1279b14d",
   "metadata": {},
   "outputs": [],
   "source": [
    "from torch.utils.data import DataLoader\n",
    "\n",
    "loaders = {\n",
    "    'train' : DataLoader(train_data,\n",
    "                        batch_size = 100,\n",
    "                        shuffle = True,\n",
    "                        num_workers = 1),\n",
    "    'test' : DataLoader(test_data,\n",
    "                        batch_size = 100,\n",
    "                        shuffle = True,\n",
    "                        num_workers = 1)\n",
    "}"
   ]
  },
  {
   "cell_type": "code",
   "execution_count": 15,
   "id": "9086ccec",
   "metadata": {},
   "outputs": [
    {
     "data": {
      "text/plain": [
       "{'train': <torch.utils.data.dataloader.DataLoader at 0x128854a00>,\n",
       " 'test': <torch.utils.data.dataloader.DataLoader at 0x128854be0>}"
      ]
     },
     "execution_count": 15,
     "metadata": {},
     "output_type": "execute_result"
    }
   ],
   "source": [
    "loaders"
   ]
  },
  {
   "cell_type": "code",
   "execution_count": 51,
   "id": "ba78ba3f",
   "metadata": {},
   "outputs": [],
   "source": [
    "import torch.nn as nn\n",
    "import torch.nn.functional as F\n",
    "import torch.optim as optim\n",
    "\n",
    "class CNN(nn.Module):\n",
    "    \n",
    "    def __init__(self):\n",
    "        super(CNN,self).__init__()\n",
    "        \n",
    "        self.conv1 = nn.Conv2d(1,10,kernel_size =5)\n",
    "        self.conv2 = nn.Conv2d(10,20,kernel_size =5)\n",
    "        self.conv2_drop = nn.Dropout2d()\n",
    "        self.fc1 = nn.Linear(320,50)\n",
    "        self.fc2 = nn.Linear(50,10)\n",
    "        \n",
    "    def forward(self,x):\n",
    "        x = F.relu(F.max_pool2d(self.conv1(x),2))\n",
    "        x = F.relu(F.max_pool2d(self.conv2_drop(self.conv2(x)),2))\n",
    "        x = x.view(-1,320)\n",
    "        x = F.relu(self.fc1(x))\n",
    "        x = F.dropout(x, training = self.training)\n",
    "        x = self.fc2(x)\n",
    "        \n",
    "        return F.softmax(x)\n",
    "                   \n",
    "                   "
   ]
  },
  {
   "cell_type": "code",
   "execution_count": 54,
   "id": "890800cb",
   "metadata": {},
   "outputs": [],
   "source": [
    "import torch\n",
    "\n",
    "device = torch.device('cuda' if torch.cuda.is_available() else 'cpu')\n",
    "\n",
    "model = CNN().to(device)\n",
    "\n",
    "optimizer = optim.Adam(model.parameters(), lr = 0.001)\n",
    "\n",
    "loss_fn = nn.CrossEntropyLoss()\n",
    "\n",
    "def train(epoch):\n",
    "    model.train()\n",
    "    for batch_idx,(data,target) in enumerate(loaders['train']):\n",
    "        data,target = data.to(device), target.to(device)\n",
    "        optimizer.zero_grad()\n",
    "        output = model(data)\n",
    "        loss = loss_fn(output,target)\n",
    "        loss.backward()\n",
    "        optimizer.step()\n",
    "        if batch_idx % 20 ==0:\n",
    "            print(f'Train Epoch:{epoch} [{batch_idx * len(data)}/{len(loaders[\"train\"].dataset)} ({100. * batch_idx / len(loaders[\"train\"]):.0f}%)]\\t{loss.item():.6f}')\n",
    "\n",
    "        \n",
    "def test():\n",
    "    model.eval()\n",
    "    \n",
    "    test_loss = 0\n",
    "    correct = 0\n",
    "    \n",
    "    with torch.no_grad():\n",
    "        for data,target in loaders['test']:\n",
    "            data,target = data.to(device),target.to(device)\n",
    "            output = model(data)\n",
    "            test_loss += loss_fn(output, target).item()\n",
    "            pred = output.argmax(dim=1, keepdim =True)\n",
    "            correct += pred.eq(target.view_as(pred)).sum().item()\n",
    "    \n",
    "    test_loss /= len(loaders['test'].dataset)\n",
    "    print(f\"\\nTest set: Average loss: {test_loss:.4f},Accuracy {correct}/{len(loaders['test'].dataset)}({100. * correct / len(loaders['test'].dataset):.0f}%\\n)\")\n",
    "\n",
    "  "
   ]
  },
  {
   "cell_type": "code",
   "execution_count": 55,
   "id": "7d360f29",
   "metadata": {},
   "outputs": [
    {
     "name": "stderr",
     "output_type": "stream",
     "text": [
      "/var/folders/h2/tk0r6fvd1f71h1y8csf96jwh0000gn/T/ipykernel_26756/1058559663.py:24: UserWarning: Implicit dimension choice for softmax has been deprecated. Change the call to include dim=X as an argument.\n",
      "  return F.softmax(x)\n"
     ]
    },
    {
     "name": "stdout",
     "output_type": "stream",
     "text": [
      "Train Epoch:1 [0/60000 (0%)]\t2.303375\n",
      "Train Epoch:1 [2000/60000 (3%)]\t2.282820\n",
      "Train Epoch:1 [4000/60000 (7%)]\t2.193603\n",
      "Train Epoch:1 [6000/60000 (10%)]\t2.017380\n",
      "Train Epoch:1 [8000/60000 (13%)]\t1.916216\n",
      "Train Epoch:1 [10000/60000 (17%)]\t1.910362\n",
      "Train Epoch:1 [12000/60000 (20%)]\t1.818761\n",
      "Train Epoch:1 [14000/60000 (23%)]\t1.810746\n",
      "Train Epoch:1 [16000/60000 (27%)]\t1.853907\n",
      "Train Epoch:1 [18000/60000 (30%)]\t1.862964\n",
      "Train Epoch:1 [20000/60000 (33%)]\t1.777834\n",
      "Train Epoch:1 [22000/60000 (37%)]\t1.833195\n",
      "Train Epoch:1 [24000/60000 (40%)]\t1.735455\n",
      "Train Epoch:1 [26000/60000 (43%)]\t1.717127\n",
      "Train Epoch:1 [28000/60000 (47%)]\t1.741834\n",
      "Train Epoch:1 [30000/60000 (50%)]\t1.752369\n",
      "Train Epoch:1 [32000/60000 (53%)]\t1.761633\n",
      "Train Epoch:1 [34000/60000 (57%)]\t1.729074\n",
      "Train Epoch:1 [36000/60000 (60%)]\t1.748256\n",
      "Train Epoch:1 [38000/60000 (63%)]\t1.782771\n",
      "Train Epoch:1 [40000/60000 (67%)]\t1.799712\n",
      "Train Epoch:1 [42000/60000 (70%)]\t1.790928\n",
      "Train Epoch:1 [44000/60000 (73%)]\t1.712129\n",
      "Train Epoch:1 [46000/60000 (77%)]\t1.750822\n",
      "Train Epoch:1 [48000/60000 (80%)]\t1.759608\n",
      "Train Epoch:1 [50000/60000 (83%)]\t1.664370\n",
      "Train Epoch:1 [52000/60000 (87%)]\t1.701683\n",
      "Train Epoch:1 [54000/60000 (90%)]\t1.671450\n",
      "Train Epoch:1 [56000/60000 (93%)]\t1.664731\n",
      "Train Epoch:1 [58000/60000 (97%)]\t1.684533\n",
      "\n",
      "Test set: Average loss: 0.0162,Accuracy 8453/10000(85%\n",
      ")\n",
      "Train Epoch:2 [0/60000 (0%)]\t1.696875\n",
      "Train Epoch:2 [2000/60000 (3%)]\t1.705934\n",
      "Train Epoch:2 [4000/60000 (7%)]\t1.692990\n",
      "Train Epoch:2 [6000/60000 (10%)]\t1.692446\n",
      "Train Epoch:2 [8000/60000 (13%)]\t1.634387\n",
      "Train Epoch:2 [10000/60000 (17%)]\t1.711507\n",
      "Train Epoch:2 [12000/60000 (20%)]\t1.676587\n",
      "Train Epoch:2 [14000/60000 (23%)]\t1.678906\n",
      "Train Epoch:2 [16000/60000 (27%)]\t1.692119\n",
      "Train Epoch:2 [18000/60000 (30%)]\t1.719839\n",
      "Train Epoch:2 [20000/60000 (33%)]\t1.772165\n",
      "Train Epoch:2 [22000/60000 (37%)]\t1.645198\n",
      "Train Epoch:2 [24000/60000 (40%)]\t1.633769\n",
      "Train Epoch:2 [26000/60000 (43%)]\t1.686431\n",
      "Train Epoch:2 [28000/60000 (47%)]\t1.628231\n",
      "Train Epoch:2 [30000/60000 (50%)]\t1.665054\n",
      "Train Epoch:2 [32000/60000 (53%)]\t1.651184\n",
      "Train Epoch:2 [34000/60000 (57%)]\t1.647023\n",
      "Train Epoch:2 [36000/60000 (60%)]\t1.690185\n",
      "Train Epoch:2 [38000/60000 (63%)]\t1.704879\n",
      "Train Epoch:2 [40000/60000 (67%)]\t1.643941\n",
      "Train Epoch:2 [42000/60000 (70%)]\t1.631661\n",
      "Train Epoch:2 [44000/60000 (73%)]\t1.637892\n",
      "Train Epoch:2 [46000/60000 (77%)]\t1.616013\n",
      "Train Epoch:2 [48000/60000 (80%)]\t1.642209\n",
      "Train Epoch:2 [50000/60000 (83%)]\t1.638683\n",
      "Train Epoch:2 [52000/60000 (87%)]\t1.655901\n",
      "Train Epoch:2 [54000/60000 (90%)]\t1.631046\n",
      "Train Epoch:2 [56000/60000 (93%)]\t1.589989\n",
      "Train Epoch:2 [58000/60000 (97%)]\t1.578917\n",
      "\n",
      "Test set: Average loss: 0.0160,Accuracy 8646/10000(86%\n",
      ")\n",
      "Train Epoch:3 [0/60000 (0%)]\t1.673654\n",
      "Train Epoch:3 [2000/60000 (3%)]\t1.584183\n",
      "Train Epoch:3 [4000/60000 (7%)]\t1.674743\n",
      "Train Epoch:3 [6000/60000 (10%)]\t1.620520\n",
      "Train Epoch:3 [8000/60000 (13%)]\t1.663058\n",
      "Train Epoch:3 [10000/60000 (17%)]\t1.647243\n",
      "Train Epoch:3 [12000/60000 (20%)]\t1.669412\n",
      "Train Epoch:3 [14000/60000 (23%)]\t1.600413\n",
      "Train Epoch:3 [16000/60000 (27%)]\t1.619506\n",
      "Train Epoch:3 [18000/60000 (30%)]\t1.647661\n",
      "Train Epoch:3 [20000/60000 (33%)]\t1.591778\n",
      "Train Epoch:3 [22000/60000 (37%)]\t1.598619\n",
      "Train Epoch:3 [24000/60000 (40%)]\t1.613944\n",
      "Train Epoch:3 [26000/60000 (43%)]\t1.696534\n",
      "Train Epoch:3 [28000/60000 (47%)]\t1.644413\n",
      "Train Epoch:3 [30000/60000 (50%)]\t1.649793\n",
      "Train Epoch:3 [32000/60000 (53%)]\t1.612264\n",
      "Train Epoch:3 [34000/60000 (57%)]\t1.680582\n",
      "Train Epoch:3 [36000/60000 (60%)]\t1.608098\n",
      "Train Epoch:3 [38000/60000 (63%)]\t1.639411\n",
      "Train Epoch:3 [40000/60000 (67%)]\t1.684255\n",
      "Train Epoch:3 [42000/60000 (70%)]\t1.651475\n",
      "Train Epoch:3 [44000/60000 (73%)]\t1.640810\n",
      "Train Epoch:3 [46000/60000 (77%)]\t1.653693\n",
      "Train Epoch:3 [48000/60000 (80%)]\t1.690345\n",
      "Train Epoch:3 [50000/60000 (83%)]\t1.613092\n",
      "Train Epoch:3 [52000/60000 (87%)]\t1.576359\n",
      "Train Epoch:3 [54000/60000 (90%)]\t1.706176\n",
      "Train Epoch:3 [56000/60000 (93%)]\t1.595449\n",
      "Train Epoch:3 [58000/60000 (97%)]\t1.636085\n",
      "\n",
      "Test set: Average loss: 0.0159,Accuracy 8726/10000(87%\n",
      ")\n",
      "Train Epoch:4 [0/60000 (0%)]\t1.634816\n",
      "Train Epoch:4 [2000/60000 (3%)]\t1.717560\n",
      "Train Epoch:4 [4000/60000 (7%)]\t1.590663\n",
      "Train Epoch:4 [6000/60000 (10%)]\t1.664301\n",
      "Train Epoch:4 [8000/60000 (13%)]\t1.573217\n",
      "Train Epoch:4 [10000/60000 (17%)]\t1.596270\n",
      "Train Epoch:4 [12000/60000 (20%)]\t1.633971\n",
      "Train Epoch:4 [14000/60000 (23%)]\t1.592940\n",
      "Train Epoch:4 [16000/60000 (27%)]\t1.579880\n",
      "Train Epoch:4 [18000/60000 (30%)]\t1.619038\n",
      "Train Epoch:4 [20000/60000 (33%)]\t1.544475\n",
      "Train Epoch:4 [22000/60000 (37%)]\t1.610857\n",
      "Train Epoch:4 [24000/60000 (40%)]\t1.607530\n",
      "Train Epoch:4 [26000/60000 (43%)]\t1.614261\n",
      "Train Epoch:4 [28000/60000 (47%)]\t1.642326\n",
      "Train Epoch:4 [30000/60000 (50%)]\t1.647934\n",
      "Train Epoch:4 [32000/60000 (53%)]\t1.608327\n",
      "Train Epoch:4 [34000/60000 (57%)]\t1.627166\n",
      "Train Epoch:4 [36000/60000 (60%)]\t1.610374\n",
      "Train Epoch:4 [38000/60000 (63%)]\t1.605876\n",
      "Train Epoch:4 [40000/60000 (67%)]\t1.616157\n",
      "Train Epoch:4 [42000/60000 (70%)]\t1.600476\n",
      "Train Epoch:4 [44000/60000 (73%)]\t1.603966\n",
      "Train Epoch:4 [46000/60000 (77%)]\t1.679510\n",
      "Train Epoch:4 [48000/60000 (80%)]\t1.595293\n",
      "Train Epoch:4 [50000/60000 (83%)]\t1.625438\n",
      "Train Epoch:4 [52000/60000 (87%)]\t1.639173\n",
      "Train Epoch:4 [54000/60000 (90%)]\t1.604795\n",
      "Train Epoch:4 [56000/60000 (93%)]\t1.615261\n",
      "Train Epoch:4 [58000/60000 (97%)]\t1.617281\n",
      "\n",
      "Test set: Average loss: 0.0159,Accuracy 8750/10000(88%\n",
      ")\n",
      "Train Epoch:5 [0/60000 (0%)]\t1.604207\n",
      "Train Epoch:5 [2000/60000 (3%)]\t1.614544\n",
      "Train Epoch:5 [4000/60000 (7%)]\t1.607614\n",
      "Train Epoch:5 [6000/60000 (10%)]\t1.661506\n",
      "Train Epoch:5 [8000/60000 (13%)]\t1.595165\n",
      "Train Epoch:5 [10000/60000 (17%)]\t1.590497\n",
      "Train Epoch:5 [12000/60000 (20%)]\t1.636632\n",
      "Train Epoch:5 [14000/60000 (23%)]\t1.626251\n",
      "Train Epoch:5 [16000/60000 (27%)]\t1.665414\n",
      "Train Epoch:5 [18000/60000 (30%)]\t1.633089\n",
      "Train Epoch:5 [20000/60000 (33%)]\t1.673039\n",
      "Train Epoch:5 [22000/60000 (37%)]\t1.658331\n",
      "Train Epoch:5 [24000/60000 (40%)]\t1.598174\n",
      "Train Epoch:5 [26000/60000 (43%)]\t1.596817\n",
      "Train Epoch:5 [28000/60000 (47%)]\t1.609951\n",
      "Train Epoch:5 [30000/60000 (50%)]\t1.586792\n",
      "Train Epoch:5 [32000/60000 (53%)]\t1.693493\n",
      "Train Epoch:5 [34000/60000 (57%)]\t1.590130\n",
      "Train Epoch:5 [36000/60000 (60%)]\t1.672307\n",
      "Train Epoch:5 [38000/60000 (63%)]\t1.570375\n",
      "Train Epoch:5 [40000/60000 (67%)]\t1.635153\n",
      "Train Epoch:5 [42000/60000 (70%)]\t1.581053\n",
      "Train Epoch:5 [44000/60000 (73%)]\t1.618216\n",
      "Train Epoch:5 [46000/60000 (77%)]\t1.562644\n",
      "Train Epoch:5 [48000/60000 (80%)]\t1.648629\n",
      "Train Epoch:5 [50000/60000 (83%)]\t1.643336\n",
      "Train Epoch:5 [52000/60000 (87%)]\t1.670717\n",
      "Train Epoch:5 [54000/60000 (90%)]\t1.646468\n",
      "Train Epoch:5 [56000/60000 (93%)]\t1.612965\n",
      "Train Epoch:5 [58000/60000 (97%)]\t1.658003\n",
      "\n",
      "Test set: Average loss: 0.0158,Accuracy 8782/10000(88%\n",
      ")\n",
      "Train Epoch:6 [0/60000 (0%)]\t1.655840\n",
      "Train Epoch:6 [2000/60000 (3%)]\t1.630008\n",
      "Train Epoch:6 [4000/60000 (7%)]\t1.624815\n",
      "Train Epoch:6 [6000/60000 (10%)]\t1.592582\n",
      "Train Epoch:6 [8000/60000 (13%)]\t1.606714\n",
      "Train Epoch:6 [10000/60000 (17%)]\t1.613186\n",
      "Train Epoch:6 [12000/60000 (20%)]\t1.580108\n",
      "Train Epoch:6 [14000/60000 (23%)]\t1.602547\n",
      "Train Epoch:6 [16000/60000 (27%)]\t1.697286\n",
      "Train Epoch:6 [18000/60000 (30%)]\t1.625587\n",
      "Train Epoch:6 [20000/60000 (33%)]\t1.589930\n",
      "Train Epoch:6 [22000/60000 (37%)]\t1.671890\n",
      "Train Epoch:6 [24000/60000 (40%)]\t1.620960\n",
      "Train Epoch:6 [26000/60000 (43%)]\t1.624084\n",
      "Train Epoch:6 [28000/60000 (47%)]\t1.603964\n",
      "Train Epoch:6 [30000/60000 (50%)]\t1.582263\n",
      "Train Epoch:6 [32000/60000 (53%)]\t1.607284\n",
      "Train Epoch:6 [34000/60000 (57%)]\t1.630105\n",
      "Train Epoch:6 [36000/60000 (60%)]\t1.574259\n",
      "Train Epoch:6 [38000/60000 (63%)]\t1.644455\n",
      "Train Epoch:6 [40000/60000 (67%)]\t1.589402\n",
      "Train Epoch:6 [42000/60000 (70%)]\t1.610308\n",
      "Train Epoch:6 [44000/60000 (73%)]\t1.619976\n",
      "Train Epoch:6 [46000/60000 (77%)]\t1.593174\n",
      "Train Epoch:6 [48000/60000 (80%)]\t1.628024\n",
      "Train Epoch:6 [50000/60000 (83%)]\t1.570731\n",
      "Train Epoch:6 [52000/60000 (87%)]\t1.624377\n",
      "Train Epoch:6 [54000/60000 (90%)]\t1.610535\n",
      "Train Epoch:6 [56000/60000 (93%)]\t1.586042\n",
      "Train Epoch:6 [58000/60000 (97%)]\t1.564428\n",
      "\n",
      "Test set: Average loss: 0.0150,Accuracy 9644/10000(96%\n",
      ")\n",
      "Train Epoch:7 [0/60000 (0%)]\t1.556466\n",
      "Train Epoch:7 [2000/60000 (3%)]\t1.579841\n",
      "Train Epoch:7 [4000/60000 (7%)]\t1.558691\n",
      "Train Epoch:7 [6000/60000 (10%)]\t1.556606\n",
      "Train Epoch:7 [8000/60000 (13%)]\t1.579527\n"
     ]
    },
    {
     "name": "stdout",
     "output_type": "stream",
     "text": [
      "Train Epoch:7 [10000/60000 (17%)]\t1.531821\n",
      "Train Epoch:7 [12000/60000 (20%)]\t1.507047\n",
      "Train Epoch:7 [14000/60000 (23%)]\t1.506292\n",
      "Train Epoch:7 [16000/60000 (27%)]\t1.525212\n",
      "Train Epoch:7 [18000/60000 (30%)]\t1.522358\n",
      "Train Epoch:7 [20000/60000 (33%)]\t1.548882\n",
      "Train Epoch:7 [22000/60000 (37%)]\t1.527804\n",
      "Train Epoch:7 [24000/60000 (40%)]\t1.495949\n",
      "Train Epoch:7 [26000/60000 (43%)]\t1.513958\n",
      "Train Epoch:7 [28000/60000 (47%)]\t1.551544\n",
      "Train Epoch:7 [30000/60000 (50%)]\t1.502524\n",
      "Train Epoch:7 [32000/60000 (53%)]\t1.497731\n",
      "Train Epoch:7 [34000/60000 (57%)]\t1.502503\n",
      "Train Epoch:7 [36000/60000 (60%)]\t1.497887\n",
      "Train Epoch:7 [38000/60000 (63%)]\t1.520208\n",
      "Train Epoch:7 [40000/60000 (67%)]\t1.559926\n",
      "Train Epoch:7 [42000/60000 (70%)]\t1.522344\n",
      "Train Epoch:7 [44000/60000 (73%)]\t1.560089\n",
      "Train Epoch:7 [46000/60000 (77%)]\t1.536071\n",
      "Train Epoch:7 [48000/60000 (80%)]\t1.515557\n",
      "Train Epoch:7 [50000/60000 (83%)]\t1.524072\n",
      "Train Epoch:7 [52000/60000 (87%)]\t1.505010\n",
      "Train Epoch:7 [54000/60000 (90%)]\t1.526744\n",
      "Train Epoch:7 [56000/60000 (93%)]\t1.510933\n",
      "Train Epoch:7 [58000/60000 (97%)]\t1.537378\n",
      "\n",
      "Test set: Average loss: 0.0149,Accuracy 9738/10000(97%\n",
      ")\n",
      "Train Epoch:8 [0/60000 (0%)]\t1.527478\n",
      "Train Epoch:8 [2000/60000 (3%)]\t1.544592\n",
      "Train Epoch:8 [4000/60000 (7%)]\t1.513910\n",
      "Train Epoch:8 [6000/60000 (10%)]\t1.523019\n",
      "Train Epoch:8 [8000/60000 (13%)]\t1.557790\n",
      "Train Epoch:8 [10000/60000 (17%)]\t1.547228\n",
      "Train Epoch:8 [12000/60000 (20%)]\t1.517292\n",
      "Train Epoch:8 [14000/60000 (23%)]\t1.525156\n",
      "Train Epoch:8 [16000/60000 (27%)]\t1.532648\n",
      "Train Epoch:8 [18000/60000 (30%)]\t1.524220\n",
      "Train Epoch:8 [20000/60000 (33%)]\t1.543289\n",
      "Train Epoch:8 [22000/60000 (37%)]\t1.528053\n",
      "Train Epoch:8 [24000/60000 (40%)]\t1.536047\n",
      "Train Epoch:8 [26000/60000 (43%)]\t1.521858\n",
      "Train Epoch:8 [28000/60000 (47%)]\t1.534203\n",
      "Train Epoch:8 [30000/60000 (50%)]\t1.561835\n",
      "Train Epoch:8 [32000/60000 (53%)]\t1.529242\n",
      "Train Epoch:8 [34000/60000 (57%)]\t1.565797\n",
      "Train Epoch:8 [36000/60000 (60%)]\t1.488775\n",
      "Train Epoch:8 [38000/60000 (63%)]\t1.500427\n",
      "Train Epoch:8 [40000/60000 (67%)]\t1.512258\n",
      "Train Epoch:8 [42000/60000 (70%)]\t1.558198\n",
      "Train Epoch:8 [44000/60000 (73%)]\t1.485307\n",
      "Train Epoch:8 [46000/60000 (77%)]\t1.507379\n",
      "Train Epoch:8 [48000/60000 (80%)]\t1.593153\n",
      "Train Epoch:8 [50000/60000 (83%)]\t1.513511\n",
      "Train Epoch:8 [52000/60000 (87%)]\t1.522150\n",
      "Train Epoch:8 [54000/60000 (90%)]\t1.551005\n",
      "Train Epoch:8 [56000/60000 (93%)]\t1.560087\n",
      "Train Epoch:8 [58000/60000 (97%)]\t1.487407\n",
      "\n",
      "Test set: Average loss: 0.0149,Accuracy 9750/10000(98%\n",
      ")\n",
      "Train Epoch:9 [0/60000 (0%)]\t1.529463\n",
      "Train Epoch:9 [2000/60000 (3%)]\t1.507508\n",
      "Train Epoch:9 [4000/60000 (7%)]\t1.524001\n",
      "Train Epoch:9 [6000/60000 (10%)]\t1.500359\n",
      "Train Epoch:9 [8000/60000 (13%)]\t1.492127\n",
      "Train Epoch:9 [10000/60000 (17%)]\t1.500933\n",
      "Train Epoch:9 [12000/60000 (20%)]\t1.512650\n",
      "Train Epoch:9 [14000/60000 (23%)]\t1.543870\n",
      "Train Epoch:9 [16000/60000 (27%)]\t1.521005\n",
      "Train Epoch:9 [18000/60000 (30%)]\t1.531312\n",
      "Train Epoch:9 [20000/60000 (33%)]\t1.513716\n",
      "Train Epoch:9 [22000/60000 (37%)]\t1.577968\n",
      "Train Epoch:9 [24000/60000 (40%)]\t1.540251\n",
      "Train Epoch:9 [26000/60000 (43%)]\t1.554876\n",
      "Train Epoch:9 [28000/60000 (47%)]\t1.505647\n",
      "Train Epoch:9 [30000/60000 (50%)]\t1.523992\n",
      "Train Epoch:9 [32000/60000 (53%)]\t1.520951\n",
      "Train Epoch:9 [34000/60000 (57%)]\t1.548410\n",
      "Train Epoch:9 [36000/60000 (60%)]\t1.528399\n",
      "Train Epoch:9 [38000/60000 (63%)]\t1.553799\n",
      "Train Epoch:9 [40000/60000 (67%)]\t1.525641\n",
      "Train Epoch:9 [42000/60000 (70%)]\t1.525642\n",
      "Train Epoch:9 [44000/60000 (73%)]\t1.523672\n",
      "Train Epoch:9 [46000/60000 (77%)]\t1.546054\n",
      "Train Epoch:9 [48000/60000 (80%)]\t1.524370\n",
      "Train Epoch:9 [50000/60000 (83%)]\t1.507350\n",
      "Train Epoch:9 [52000/60000 (87%)]\t1.522861\n",
      "Train Epoch:9 [54000/60000 (90%)]\t1.520290\n",
      "Train Epoch:9 [56000/60000 (93%)]\t1.514855\n",
      "Train Epoch:9 [58000/60000 (97%)]\t1.508190\n",
      "\n",
      "Test set: Average loss: 0.0149,Accuracy 9753/10000(98%\n",
      ")\n",
      "Train Epoch:10 [0/60000 (0%)]\t1.538391\n",
      "Train Epoch:10 [2000/60000 (3%)]\t1.531580\n",
      "Train Epoch:10 [4000/60000 (7%)]\t1.511775\n",
      "Train Epoch:10 [6000/60000 (10%)]\t1.534350\n",
      "Train Epoch:10 [8000/60000 (13%)]\t1.502850\n",
      "Train Epoch:10 [10000/60000 (17%)]\t1.536945\n",
      "Train Epoch:10 [12000/60000 (20%)]\t1.531598\n",
      "Train Epoch:10 [14000/60000 (23%)]\t1.536185\n",
      "Train Epoch:10 [16000/60000 (27%)]\t1.532863\n",
      "Train Epoch:10 [18000/60000 (30%)]\t1.524177\n",
      "Train Epoch:10 [20000/60000 (33%)]\t1.513599\n",
      "Train Epoch:10 [22000/60000 (37%)]\t1.558235\n",
      "Train Epoch:10 [24000/60000 (40%)]\t1.493374\n",
      "Train Epoch:10 [26000/60000 (43%)]\t1.542109\n",
      "Train Epoch:10 [28000/60000 (47%)]\t1.536787\n",
      "Train Epoch:10 [30000/60000 (50%)]\t1.507639\n",
      "Train Epoch:10 [32000/60000 (53%)]\t1.546086\n",
      "Train Epoch:10 [34000/60000 (57%)]\t1.509314\n",
      "Train Epoch:10 [36000/60000 (60%)]\t1.511151\n",
      "Train Epoch:10 [38000/60000 (63%)]\t1.484137\n",
      "Train Epoch:10 [40000/60000 (67%)]\t1.516656\n",
      "Train Epoch:10 [42000/60000 (70%)]\t1.584669\n",
      "Train Epoch:10 [44000/60000 (73%)]\t1.550672\n",
      "Train Epoch:10 [46000/60000 (77%)]\t1.505284\n",
      "Train Epoch:10 [48000/60000 (80%)]\t1.501026\n",
      "Train Epoch:10 [50000/60000 (83%)]\t1.532021\n",
      "Train Epoch:10 [52000/60000 (87%)]\t1.514939\n",
      "Train Epoch:10 [54000/60000 (90%)]\t1.493244\n",
      "Train Epoch:10 [56000/60000 (93%)]\t1.539162\n",
      "Train Epoch:10 [58000/60000 (97%)]\t1.487603\n",
      "\n",
      "Test set: Average loss: 0.0148,Accuracy 9766/10000(98%\n",
      ")\n"
     ]
    }
   ],
   "source": [
    "for epoch in range(1,11):\n",
    "    train(epoch)\n",
    "    test()"
   ]
  },
  {
   "cell_type": "code",
   "execution_count": 56,
   "id": "2e5fc97b",
   "metadata": {},
   "outputs": [
    {
     "data": {
      "text/plain": [
       "device(type='cpu')"
      ]
     },
     "execution_count": 56,
     "metadata": {},
     "output_type": "execute_result"
    }
   ],
   "source": [
    "device"
   ]
  },
  {
   "cell_type": "code",
   "execution_count": 61,
   "id": "0558c1f9",
   "metadata": {},
   "outputs": [
    {
     "name": "stdout",
     "output_type": "stream",
     "text": [
      "Prediction:9\n"
     ]
    },
    {
     "name": "stderr",
     "output_type": "stream",
     "text": [
      "/var/folders/h2/tk0r6fvd1f71h1y8csf96jwh0000gn/T/ipykernel_26756/1058559663.py:24: UserWarning: Implicit dimension choice for softmax has been deprecated. Change the call to include dim=X as an argument.\n",
      "  return F.softmax(x)\n"
     ]
    },
    {
     "data": {
      "image/png": "[encoded data removed]",
      "text/plain": [
       "<Figure size 640x480 with 1 Axes>"
      ]
     },
     "metadata": {},
     "output_type": "display_data"
    }
   ],
   "source": [
    "import matplotlib.pyplot as plt\n",
    "\n",
    "model.eval()\n",
    "\n",
    "data,target = test_data[7]\n",
    "\n",
    "data = data.unsqueeze(0).to(device)\n",
    "\n",
    "output = model(data)\n",
    "\n",
    "prediction = output.argmax(dim=1,keepdim =True).item()\n",
    "\n",
    "print(f'Prediction:{prediction}')\n",
    "\n",
    "image = data.squeeze(0).squeeze(0).cpu().numpy()\n",
    "\n",
    "plt.imshow(image,cmap ='gray')\n",
    "plt.show()"
   ]
  },
  {
   "cell_type": "code",
   "execution_count": null,
   "id": "f3a374f9",
   "metadata": {},
   "outputs": [],
   "source": []
  }
 ],
 "metadata": {
  "kernelspec": {
   "display_name": "Python 3 (ipykernel)",
   "language": "python",
   "name": "python3"
  },
  "language_info": {
   "codemirror_mode": {
    "name": "ipython",
    "version": 3
   },
   "file_extension": ".py",
   "mimetype": "text/x-python",
   "name": "python",
   "nbconvert_exporter": "python",
   "pygments_lexer": "ipython3",
   "version": "3.10.9"
  }
 },
 "nbformat": 4,
 "nbformat_minor": 5
}
